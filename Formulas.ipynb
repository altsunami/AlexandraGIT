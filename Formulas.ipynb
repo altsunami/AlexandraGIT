{
 "cells": [
  {
   "cell_type": "markdown",
   "metadata": {},
   "source": [
    "## Formulas"
   ]
  },
  {
   "cell_type": "code",
   "execution_count": 5,
   "metadata": {},
   "outputs": [],
   "source": [
    "def flight_data():\n",
    "    H_flmeters = float(input(\"Enter the flight height in meters: \"))\n",
    "    H_fl = (H_flmeters/1000)\n",
    "    f = float(input(\"Enter the focal lenght in centimeter: \"))\n",
    "    Sen_sp = float(input(\"Enter the sensor span in centimeters: \"))\n",
    "    Sen_br = float(input(\"Enter the sensor breadth in centimeters: \"))\n",
    "    Image_br = int(input(\"Enter the image breadth in pixels: \"))\n",
    "    Image_sp = int(input(\"Enter the image span in pixels: \"))\n",
    "    \n",
    "    GRD_sp = (Sen_sp*(H_fl/f))*1000\n",
    "    print(\"Ground span is {} meters\".format(GRD_sp))\n",
    "    GRD_br = Sen_br*(H_fl/f)*1000\n",
    "    print(\"Ground breadth is {} meters\".format(GRD_br))\n",
    "    GSD_sp = (GRD_sp/Image_sp)/1000\n",
    "    print(\"Ground sample distance span is {} cm/pixel\".format(GSD_sp))\n",
    "    GSD_br = (GRD_br/Image_br)/1000\n",
    "    print(\"Ground sample distacne breadth is {} cm/pixel\".format(GSD_br))\n",
    "    "
   ]
  },
  {
   "cell_type": "code",
   "execution_count": 7,
   "metadata": {},
   "outputs": [
    {
     "name": "stdout",
     "output_type": "stream",
     "text": [
      "Enter the flight height in meters: 3\n",
      "Enter the focal lenght in centimeter: 34\n",
      "Enter the sensor span in centimeters: 56\n",
      "Enter the sensor breadth in centimeters: 67\n",
      "Enter the image breadth in pixels: 32\n",
      "Enter the image span in pixels: 1\n",
      "Ground span is 4.9411764705882355 meters\n",
      "Ground breadth is 5.911764705882353 meters\n",
      "Ground sample distance span is 0.004941176470588235 cm/pixel\n",
      "Ground sample distacne breadth is 0.00018474264705882354 cm/pixel\n"
     ]
    }
   ],
   "source": [
    "flight_data()"
   ]
  },
  {
   "cell_type": "code",
   "execution_count": null,
   "metadata": {},
   "outputs": [],
   "source": []
  }
 ],
 "metadata": {
  "kernelspec": {
   "display_name": "Python 3",
   "language": "python",
   "name": "python3"
  },
  "language_info": {
   "codemirror_mode": {
    "name": "ipython",
    "version": 3
   },
   "file_extension": ".py",
   "mimetype": "text/x-python",
   "name": "python",
   "nbconvert_exporter": "python",
   "pygments_lexer": "ipython3",
   "version": "3.7.3"
  }
 },
 "nbformat": 4,
 "nbformat_minor": 2
}
