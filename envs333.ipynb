{
 "cells": [
  {
   "cell_type": "markdown",
   "metadata": {},
   "source": [
    "<p style=\"text-align: center;\">\n",
    " <font size=\"6\"> \n",
    "ENVS 333 <br>\n",
    " </font>\n",
    " <font size=\"4\">\n",
    "<br> Alexandra Tsiounis\n",
    "<br> Department of Environmental Science, Framingham State University<br>\n",
    "2/21/2020\n",
    " </font>\n",
    "</p>"
   ]
  },
  {
   "cell_type": "markdown",
   "metadata": {},
   "source": [
    "# 0. Intro. to Ground Sample Distance (GSD) \n",
    "The ground sample distance is the real-world size of a pixel in your images which genreally sets physical limits on the detail of your aerial survey. If your GSD is 5cm, the map or model produced cannot have a higher meaningful resolution than 5cm per pixel. The GSD is measured in cm/pixel and usually ranges from <1 to 5 for aerial surveys. GSD is defined by several variables:\n",
    "- Altitude of the image capture\n",
    "- Size of camera sensor\n",
    "- Camera resolution\n",
    "- Focal lenght of the camera lens\n",
    "- Aperture\n",
    "\n",
    "A higher resolution camera will increase the GSD which means you can fly higher and achieve the same quality results, thus reducing flight time. [Link to GSD Calculator](http://www.propelleraero.com/gsd-calculator/)\n",
    "\n",
    "\n"
   ]
  },
  {
   "cell_type": "markdown",
   "metadata": {},
   "source": [
    "## 0.2 Calculating GSD yourself \n",
    "For those who are interested, now we're going to jump into manually calculating GSD...  \n",
    "\n",
    "<img src=\"https://www.propelleraero.com/wp-content/uploads/2018/02/image5-2-e1519774215639.png\" alt=\"GSD Drawing\" style=\"width: 300px;\"/> <figcaption>This is my first figure caption. </figcaption>\n",
    "<br>\n",
    "<br>\n",
    "\n",
    "$$GSD_h = \\frac{Flight Height\\cdot Sensor Height}{Focal Length\\cdot Image Height}\\tag{1}$$\n",
    "\n",
    "$$GSD_h = \\frac{H_F\\cdot H_s}{f\\cdot H_i}\\tag{2}$$\n",
    "\n",
    "Where $GSD_{h}$ is the ground sample distance $cm/pixel$; $H_f$ is the flight height, the distance from the ground to the outer end of the camera lens, in meters; $H_s$ is the sensor height, the height of the camer's ccd, in millimeters; $f$ is the camera's focal length in millimeters; and $H_i$ id the image height, number of pixels in the camera's ccd. \n",
    "\n"
   ]
  },
  {
   "cell_type": "markdown",
   "metadata": {},
   "source": [
    "$$GSD_w = \\frac{Flight Height\\cdot Sensor Width}{Focal Length\\cdot Image Width}\\tag{1}$$\n",
    "\n",
    "$$GSD_w = \\frac{H_F\\cdot W_s}{f\\cdot W_i}\\tag{2}$$\n",
    "\n",
    "Where $GSD_{w}$ is the ground sample distance $cm/pixel$; $H_f$ is the flight height, the distance from the ground to the outer end of the camera lens, in meters; $H_s$ is the sensor height, the height of the camer's ccd, in millimeters; $f$ is the camera's focal length in millimeters; and $H_i$ id the image height, number of pixels in the camera's ccd. \n",
    "\n"
   ]
  },
  {
   "cell_type": "markdown",
   "metadata": {},
   "source": [
    "For example, lets figure out the ground sample distance of a Phantom 4 Pro at 80m above the ground. We know the following from DJI's spec:\n",
    "- Image Width: 5472px\n",
    "- Image Height: 3078px\n",
    "- Sensor Width: 13.2mm\n",
    "- Sensor Height: 8mm\n",
    "- Focal Length: 8.8mm\n",
    "\n",
    "$$GSD_h = \\frac{8000\\times0.8\\,}{0.88\\times3078}\\tag{3}$$\n",
    "\n",
    "$$GSD_h = \\frac{4600}{2708.64}\\tag{4}$$\n",
    "\n",
    "$$ h = 2.36 \\tag{5}$$\n",
    "\n",
    "<br>\n",
    "<br>\n",
    "\n",
    "$$GSD_w = \\frac{8000\\times1.32\\,}{0.88\\times5472}\\tag{3}$$\n",
    "\n",
    "$$GSD_w = \\frac{10560}{4815.36}\\tag{4}$$\n",
    "\n",
    "$$ w = 2.19 \\tag{5}$$\n",
    "\n",
    "\n"
   ]
  },
  {
   "cell_type": "markdown",
   "metadata": {},
   "source": [
    "Then we use the worst case scenario, which is **GSD = 2.36cm/px**"
   ]
  },
  {
   "cell_type": "code",
   "execution_count": 26,
   "metadata": {},
   "outputs": [
    {
     "name": "stdout",
     "output_type": "stream",
     "text": [
      "2.3628093803532395\n"
     ]
    }
   ],
   "source": [
    "H_f_m = 80\n",
    "H_s_cm = 8/10 \n",
    "f_cm = 8.8/10\n",
    "H_i_px = 3078 #hello\n",
    "\n",
    "gsd_h=H_f_m*100*H_s_cm/(f_cm*H_i_px)\n",
    "print (gsd_h)\n",
    "\n"
   ]
  },
  {
   "cell_type": "code",
   "execution_count": 25,
   "metadata": {},
   "outputs": [
    {
     "name": "stdout",
     "output_type": "stream",
     "text": [
      "2.19298245614035\n"
     ]
    }
   ],
   "source": [
    "H_f_m = 80\n",
    "H_s_cm = 13.2/10 \n",
    "f_cm = 8.8/10\n",
    "H_i_px = 5472 #hello\n",
    "\n",
    "gsd_h=H_f_m*100*H_s_cm/(f_cm*H_i_px)\n",
    "print (gsd_h)\n"
   ]
  },
  {
   "cell_type": "code",
   "execution_count": null,
   "metadata": {},
   "outputs": [],
   "source": []
  }
 ],
 "metadata": {
  "kernelspec": {
   "display_name": "Python 3",
   "language": "python",
   "name": "python3"
  },
  "language_info": {
   "codemirror_mode": {
    "name": "ipython",
    "version": 3
   },
   "file_extension": ".py",
   "mimetype": "text/x-python",
   "name": "python",
   "nbconvert_exporter": "python",
   "pygments_lexer": "ipython3",
   "version": "3.7.3"
  }
 },
 "nbformat": 4,
 "nbformat_minor": 2
}
