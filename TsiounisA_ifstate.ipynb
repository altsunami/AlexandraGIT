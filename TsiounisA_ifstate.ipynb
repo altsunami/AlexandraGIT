{
 "cells": [
  {
   "cell_type": "code",
   "execution_count": 2,
   "metadata": {},
   "outputs": [
    {
     "name": "stdout",
     "output_type": "stream",
     "text": [
      "Enter line of latitude: 0\n",
      "Your latitiude is 0\n",
      "At the Equator\n"
     ]
    }
   ],
   "source": [
    "#If statement \n",
    "\n",
    "lat = int (input(\"Enter line of latitude: \"))\n",
    "print(\"Your latitiude is \" + str(lat))\n",
    "\n",
    "if lat > 23.5 < -23.5:\n",
    "    print(\"You are outside the tropics\")\n",
    "elif lat > 90 < -90:\n",
    "    print(\"out of bounds\")\n",
    "elif lat ==0:\n",
    "    print(\"At the Equator\")\n",
    "\n",
    "if lat >23.5:\n",
    "    print(\"In the Northern Hemisphere\")\n",
    "    print(\"You are not in the tropics\")\n",
    "elif lat >0 <=23.5:\n",
    "    print(\"In the Northern Hemisphere\")\n",
    "    print(\"You are in the tropics\")\n",
    "elif lat <0 >=23.5:\n",
    "    print(\"In the Southern Hemisphere\")\n",
    "    print(\"You are in the tropics\")\n",
    "elif lat <-23.5:\n",
    "    print(\"In the Soutthern Hemisphere\")\n",
    "    print(\"You are not in the tropics\")"
   ]
  },
  {
   "cell_type": "code",
   "execution_count": null,
   "metadata": {},
   "outputs": [],
   "source": []
  }
 ],
 "metadata": {
  "kernelspec": {
   "display_name": "Python 3",
   "language": "python",
   "name": "python3"
  },
  "language_info": {
   "codemirror_mode": {
    "name": "ipython",
    "version": 3
   },
   "file_extension": ".py",
   "mimetype": "text/x-python",
   "name": "python",
   "nbconvert_exporter": "python",
   "pygments_lexer": "ipython3",
   "version": "3.7.3"
  }
 },
 "nbformat": 4,
 "nbformat_minor": 2
}
